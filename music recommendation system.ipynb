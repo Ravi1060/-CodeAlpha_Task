{
 "cells": [
  {
   "cell_type": "code",
   "execution_count": 23,
   "id": "51ac16db-9477-4e1b-a36d-6fa777c7df5f",
   "metadata": {},
   "outputs": [],
   "source": [
    "import pandas as pd"
   ]
  },
  {
   "cell_type": "code",
   "execution_count": 27,
   "id": "49ee73df-497f-47de-b841-108ac7d70d85",
   "metadata": {},
   "outputs": [],
   "source": [
    "data = pd.read_csv(\"spotify_millsongdata.csv\")\n"
   ]
  },
  {
   "cell_type": "code",
   "execution_count": 29,
   "id": "0a96f3f1-9952-4a5d-84c8-61cc00a50096",
   "metadata": {},
   "outputs": [
    {
     "name": "stdout",
     "output_type": "stream",
     "text": [
      "<class 'pandas.core.frame.DataFrame'>\n",
      "RangeIndex: 57650 entries, 0 to 57649\n",
      "Data columns (total 4 columns):\n",
      " #   Column  Non-Null Count  Dtype \n",
      "---  ------  --------------  ----- \n",
      " 0   artist  57650 non-null  object\n",
      " 1   song    57650 non-null  object\n",
      " 2   link    57650 non-null  object\n",
      " 3   text    57650 non-null  object\n",
      "dtypes: object(4)\n",
      "memory usage: 1.8+ MB\n"
     ]
    },
    {
     "data": {
      "text/plain": [
       "(  artist                   song                                        link  \\\n",
       " 0   ABBA  Ahe's My Kind Of Girl  /a/abba/ahes+my+kind+of+girl_20598417.html   \n",
       " 1   ABBA       Andante, Andante       /a/abba/andante+andante_20002708.html   \n",
       " 2   ABBA         As Good As New        /a/abba/as+good+as+new_20003033.html   \n",
       " 3   ABBA                   Bang                  /a/abba/bang_20598415.html   \n",
       " 4   ABBA       Bang-A-Boomerang      /a/abba/bang+a+boomerang_20002668.html   \n",
       " \n",
       "                                                 text  \n",
       " 0  Look at her face, it's a wonderful face  \\r\\nA...  \n",
       " 1  Take it easy with me, please  \\r\\nTouch me gen...  \n",
       " 2  I'll never know why I had to go  \\r\\nWhy I had...  \n",
       " 3  Making somebody happy is a question of give an...  \n",
       " 4  Making somebody happy is a question of give an...  ,\n",
       " None)"
      ]
     },
     "execution_count": 29,
     "metadata": {},
     "output_type": "execute_result"
    }
   ],
   "source": [
    "data = pd.read_csv(\"spotify_millsongdata.csv\")\n",
    "data.head(), data.info()\n"
   ]
  },
  {
   "cell_type": "code",
   "execution_count": 32,
   "id": "6b225a71-36dd-43a8-be0f-5b47ea1efd1c",
   "metadata": {},
   "outputs": [
    {
     "name": "stdout",
     "output_type": "stream",
     "text": [
      "Collecting scikit-learn\n",
      "  Using cached scikit_learn-1.6.0-cp313-cp313-win_amd64.whl.metadata (15 kB)\n",
      "Requirement already satisfied: numpy>=1.19.5 in c:\\users\\gupta\\appdata\\local\\programs\\python\\python313\\lib\\site-packages (from scikit-learn) (2.2.1)\n",
      "Collecting scipy>=1.6.0 (from scikit-learn)\n",
      "  Using cached scipy-1.15.0-cp313-cp313-win_amd64.whl.metadata (60 kB)\n",
      "Requirement already satisfied: joblib>=1.2.0 in c:\\users\\gupta\\appdata\\local\\programs\\python\\python313\\lib\\site-packages (from scikit-learn) (1.4.2)\n",
      "Collecting threadpoolctl>=3.1.0 (from scikit-learn)\n",
      "  Using cached threadpoolctl-3.5.0-py3-none-any.whl.metadata (13 kB)\n",
      "Using cached scikit_learn-1.6.0-cp313-cp313-win_amd64.whl (11.1 MB)\n",
      "Downloading scipy-1.15.0-cp313-cp313-win_amd64.whl (43.6 MB)\n",
      "   ---------------------------------------- 0.0/43.6 MB ? eta -:--:--\n",
      "   ---------------------------------------- 0.5/43.6 MB 4.1 MB/s eta 0:00:11\n",
      "    --------------------------------------- 1.0/43.6 MB 2.5 MB/s eta 0:00:17\n",
      "   - -------------------------------------- 1.8/43.6 MB 3.2 MB/s eta 0:00:13\n",
      "   -- ------------------------------------- 2.6/43.6 MB 3.4 MB/s eta 0:00:13\n",
      "   --- ------------------------------------ 3.4/43.6 MB 3.6 MB/s eta 0:00:12\n",
      "   ---- ----------------------------------- 4.5/43.6 MB 3.7 MB/s eta 0:00:11\n",
      "   ----- ---------------------------------- 6.0/43.6 MB 4.2 MB/s eta 0:00:09\n",
      "   ------ --------------------------------- 7.6/43.6 MB 4.7 MB/s eta 0:00:08\n",
      "   ------- -------------------------------- 8.4/43.6 MB 4.6 MB/s eta 0:00:08\n",
      "   -------- ------------------------------- 9.4/43.6 MB 4.6 MB/s eta 0:00:08\n",
      "   ---------- ----------------------------- 11.0/43.6 MB 4.9 MB/s eta 0:00:07\n",
      "   ---------- ----------------------------- 11.3/43.6 MB 4.6 MB/s eta 0:00:08\n",
      "   ----------- ---------------------------- 12.8/43.6 MB 4.8 MB/s eta 0:00:07\n",
      "   -------------- ------------------------- 15.5/43.6 MB 5.3 MB/s eta 0:00:06\n",
      "   ---------------- ----------------------- 17.6/43.6 MB 5.7 MB/s eta 0:00:05\n",
      "   ------------------ --------------------- 20.2/43.6 MB 6.1 MB/s eta 0:00:04\n",
      "   -------------------- ------------------- 22.3/43.6 MB 6.4 MB/s eta 0:00:04\n",
      "   --------------------- ------------------ 23.9/43.6 MB 6.6 MB/s eta 0:00:04\n",
      "   ----------------------- ---------------- 26.0/43.6 MB 6.7 MB/s eta 0:00:03\n",
      "   ------------------------ --------------- 26.7/43.6 MB 6.5 MB/s eta 0:00:03\n",
      "   --------------------------- ------------ 30.4/43.6 MB 7.0 MB/s eta 0:00:02\n",
      "   ------------------------------ --------- 33.6/43.6 MB 7.4 MB/s eta 0:00:02\n",
      "   ----------------------------------- ---- 38.3/43.6 MB 8.1 MB/s eta 0:00:01\n",
      "   -------------------------------------- - 42.5/43.6 MB 8.6 MB/s eta 0:00:01\n",
      "   ---------------------------------------- 43.6/43.6 MB 8.7 MB/s eta 0:00:00\n",
      "Using cached threadpoolctl-3.5.0-py3-none-any.whl (18 kB)\n",
      "Installing collected packages: threadpoolctl, scipy, scikit-learn\n",
      "Successfully installed scikit-learn-1.6.0 scipy-1.15.0 threadpoolctl-3.5.0\n",
      "Note: you may need to restart the kernel to use updated packages.\n"
     ]
    }
   ],
   "source": [
    "pip install scikit-learn"
   ]
  },
  {
   "cell_type": "code",
   "execution_count": 33,
   "id": "2f97f088-5dcd-449d-829b-dceff24cbdd3",
   "metadata": {},
   "outputs": [
    {
     "data": {
      "text/html": [
       "<div>\n",
       "<style scoped>\n",
       "    .dataframe tbody tr th:only-of-type {\n",
       "        vertical-align: middle;\n",
       "    }\n",
       "\n",
       "    .dataframe tbody tr th {\n",
       "        vertical-align: top;\n",
       "    }\n",
       "\n",
       "    .dataframe thead th {\n",
       "        text-align: right;\n",
       "    }\n",
       "</style>\n",
       "<table border=\"1\" class=\"dataframe\">\n",
       "  <thead>\n",
       "    <tr style=\"text-align: right;\">\n",
       "      <th></th>\n",
       "      <th>artist</th>\n",
       "      <th>song</th>\n",
       "    </tr>\n",
       "  </thead>\n",
       "  <tbody>\n",
       "    <tr>\n",
       "      <th>48822</th>\n",
       "      <td>Point Of Grace</td>\n",
       "      <td>Sing A Song</td>\n",
       "    </tr>\n",
       "    <tr>\n",
       "      <th>26224</th>\n",
       "      <td>Boney M.</td>\n",
       "      <td>Let It All Be Music</td>\n",
       "    </tr>\n",
       "    <tr>\n",
       "      <th>4271</th>\n",
       "      <td>Dolly Parton</td>\n",
       "      <td>Applejack</td>\n",
       "    </tr>\n",
       "    <tr>\n",
       "      <th>26919</th>\n",
       "      <td>Carpenters</td>\n",
       "      <td>Sing</td>\n",
       "    </tr>\n",
       "    <tr>\n",
       "      <th>43799</th>\n",
       "      <td>Michael Jackson</td>\n",
       "      <td>Melodie</td>\n",
       "    </tr>\n",
       "  </tbody>\n",
       "</table>\n",
       "</div>"
      ],
      "text/plain": [
       "                artist                 song\n",
       "48822   Point Of Grace          Sing A Song\n",
       "26224         Boney M.  Let It All Be Music\n",
       "4271      Dolly Parton            Applejack\n",
       "26919       Carpenters                 Sing\n",
       "43799  Michael Jackson              Melodie"
      ]
     },
     "execution_count": 33,
     "metadata": {},
     "output_type": "execute_result"
    }
   ],
   "source": [
    "from sklearn.feature_extraction.text import TfidfVectorizer\n",
    "from sklearn.metrics.pairwise import cosine_similarity\n",
    "\n",
    "# Step 1: Text preprocessing and vectorization using TF-IDF\n",
    "tfidf_vectorizer = TfidfVectorizer(stop_words='english', max_features=5000)\n",
    "tfidf_matrix = tfidf_vectorizer.fit_transform(data['text'])\n",
    "\n",
    "# Function to recommend songs based on a given song's lyrics\n",
    "def recommend_songs(song_name, num_recommendations=5):\n",
    "    # Find the index of the given song\n",
    "    try:\n",
    "        song_idx = data[data['song'].str.lower() == song_name.lower()].index[0]\n",
    "    except IndexError:\n",
    "        return f\"Song '{song_name}' not found in the dataset.\"\n",
    "    \n",
    "    # Compute similarity scores for all songs\n",
    "    similarity_scores = cosine_similarity(tfidf_matrix[song_idx], tfidf_matrix).flatten()\n",
    "    \n",
    "    # Get indices of the most similar songs (excluding the song itself)\n",
    "    similar_indices = similarity_scores.argsort()[-(num_recommendations + 1):-1][::-1]\n",
    "    \n",
    "    # Fetch and return song details of recommendations\n",
    "    recommended_songs = data.iloc[similar_indices][['artist', 'song']]\n",
    "    return recommended_songs\n",
    "\n",
    "# Example: Recommend songs similar to \"Andante, Andante\"\n",
    "recommend_songs(\"Andante, Andante\")\n"
   ]
  },
  {
   "cell_type": "code",
   "execution_count": null,
   "id": "2b617ea6-be68-4ba5-a24d-8680d65d9d4c",
   "metadata": {},
   "outputs": [],
   "source": []
  }
 ],
 "metadata": {
  "kernelspec": {
   "display_name": "Python 3 (ipykernel)",
   "language": "python",
   "name": "python3"
  },
  "language_info": {
   "codemirror_mode": {
    "name": "ipython",
    "version": 3
   },
   "file_extension": ".py",
   "mimetype": "text/x-python",
   "name": "python",
   "nbconvert_exporter": "python",
   "pygments_lexer": "ipython3",
   "version": "3.13.0"
  }
 },
 "nbformat": 4,
 "nbformat_minor": 5
}
